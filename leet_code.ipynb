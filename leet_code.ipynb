{
 "cells": [
  {
   "cell_type": "code",
   "execution_count": 4,
   "metadata": {},
   "outputs": [],
   "source": [
    "from typing import Dict, List\n",
    "\n",
    "class Graph():\n",
    "    def __init__(self) -> None:\n",
    "        self.vertex: Dict[str, List[str]] = {}\n",
    "\n",
    "    def addVertex(self, v: str):\n",
    "        if v not in self.vertex:\n",
    "            self.vertex[v] = []\n",
    "    \n",
    "    # graph is indirected so relationship is between v1 <-> v2\n",
    "    def addRelationship(self, v1, v2):\n",
    "        if v1 not in self.vertex:\n",
    "            self.addVertex(v1)\n",
    "        if v2 not in self.vertex:\n",
    "            self.addVertex(v2)\n",
    "\n",
    "        if v2 not in self.vertex[v1]:\n",
    "            self.vertex[v1].append(v2)\n",
    "        if v1 not in self.vertex[v2]:\n",
    "            self.vertex[v2].append(v1)\n",
    "    \n",
    "    def getNeighbours(self, v):\n",
    "        return self.vertex[v] if v in self.vertex else []\n",
    "\n"
   ]
  },
  {
   "cell_type": "code",
   "execution_count": 23,
   "metadata": {},
   "outputs": [],
   "source": [
    "g = Graph()\n",
    "\n",
    "g.addRelationship('KB', 'DC')\n",
    "g.addRelationship('KB', 'jesus')\n",
    "g.addRelationship('KB', 'kevo')\n",
    "g.addRelationship('DC', 'DB')\n",
    "g.addRelationship('DB', 'kevo')\n",
    "g.addRelationship('kevo', 'trolas')\n",
    "g.addRelationship('DC', 'Zeuz')\n",
    "g.addRelationship('DC', 'Jesus')\n",
    "g.addRelationship('Jesus', 'venecos')\n",
    "g.addRelationship('venecos', 'chavez')\n",
    "g.addRelationship('DB', 'GF')\n"
   ]
  },
  {
   "cell_type": "code",
   "execution_count": 24,
   "metadata": {},
   "outputs": [
    {
     "data": {
      "text/plain": [
       "3"
      ]
     },
     "execution_count": 24,
     "metadata": {},
     "output_type": "execute_result"
    }
   ],
   "source": [
    "from queue import deque\n",
    "\n",
    "def calculate_bacon_number(target: str) -> int:\n",
    "    degrees: Dict[str, int] = {'KB': 0}\n",
    "    q = deque()\n",
    "    q.appendleft('KB')\n",
    "\n",
    "    while len(q) != 0:\n",
    "        v: str = q.pop()\n",
    "        neighbours: List[str] = g.getNeighbours(v)\n",
    "        for n in neighbours:\n",
    "            if n in degrees:\n",
    "                # Already been there\n",
    "                continue\n",
    "            \n",
    "            degrees[n] = degrees[v] + 1\n",
    "            if n == target:\n",
    "                return degrees[n]\n",
    "            \n",
    "            q.appendleft(n)\n",
    "    \n",
    "    # not found\n",
    "    return None\n",
    "\n",
    "calculate_bacon_number('GF')\n",
    "    "
   ]
  },
  {
   "cell_type": "code",
   "execution_count": 25,
   "metadata": {},
   "outputs": [
    {
     "data": {
      "text/plain": [
       "{'KB': ['DC', 'jesus', 'kevo'],\n",
       " 'DC': ['KB', 'DB', 'Zeuz', 'Jesus'],\n",
       " 'jesus': ['KB'],\n",
       " 'kevo': ['KB', 'DB', 'trolas'],\n",
       " 'DB': ['DC', 'kevo', 'GF'],\n",
       " 'trolas': ['kevo'],\n",
       " 'Zeuz': ['DC'],\n",
       " 'Jesus': ['DC', 'venecos'],\n",
       " 'venecos': ['Jesus', 'chavez'],\n",
       " 'chavez': ['venecos'],\n",
       " 'GF': ['DB']}"
      ]
     },
     "execution_count": 25,
     "metadata": {},
     "output_type": "execute_result"
    }
   ],
   "source": [
    "g.vertex"
   ]
  },
  {
   "cell_type": "code",
   "execution_count": 30,
   "metadata": {},
   "outputs": [
    {
     "name": "stdout",
     "output_type": "stream",
     "text": [
      "retry  1   wait time  300\n",
      "retry  2   wait time  600\n",
      "retry  3   wait time  1200\n",
      "retry  4   wait time  2400\n",
      "\n",
      " Total time 4500\n"
     ]
    }
   ],
   "source": [
    "retries = 4\n",
    "totalTime = 0\n",
    "waitTimeSeed = 150\n",
    "for i in range(1, retries + 1):\n",
    "    waitTime = (2 ** i) * waitTimeSeed\n",
    "    totalTime += waitTime\n",
    "    print('retry ', i, ' ', 'wait time ', waitTime)\n",
    "\n",
    "print('\\n', 'Total time', totalTime)"
   ]
  },
  {
   "cell_type": "code",
   "execution_count": 5,
   "metadata": {},
   "outputs": [],
   "source": [
    "class ListNode:\n",
    "    def __init__(self, val=0, next=None):\n",
    "        self.val = val\n",
    "        self.next = next"
   ]
  },
  {
   "cell_type": "code",
   "execution_count": 76,
   "metadata": {},
   "outputs": [],
   "source": [
    "from typing import Optional, List\n",
    "\n",
    "class Solution:\n",
    "    def popMaxElement(self, lists: List[Optional[ListNode]]) -> Optional[int]:\n",
    "        minNode: ListNode = None\n",
    "        minIdx = 0\n",
    "        for idx in range(len(lists)):\n",
    "            if lists[idx] == None:\n",
    "                continue\n",
    "\n",
    "            if minNode == None:\n",
    "                minIdx = idx\n",
    "                minNode = lists[idx]\n",
    "                continue\n",
    "            \n",
    "            if lists[idx].val < minNode.val:\n",
    "                minIdx = idx\n",
    "                minNode = lists[idx]\n",
    "\n",
    "        if minNode == None:\n",
    "            return None\n",
    "        \n",
    "        lists[minIdx] = minNode.next\n",
    "        minNode.next = None\n",
    "        return minNode\n",
    "\n",
    "    def printResult(self, head: ListNode) -> List[int]:\n",
    "        tmp = head\n",
    "        result = []\n",
    "        while tmp != None:\n",
    "            result.append(tmp.val)\n",
    "            tmp = tmp.next\n",
    "\n",
    "        return result\n",
    "\n",
    "    def mergeKLists(self, lists: List[Optional[ListNode]]) -> Optional[ListNode]:\n",
    "        if len(lists) < 2:\n",
    "            return lists\n",
    "\n",
    "        head = self.popMaxElement(lists)\n",
    "        ptr = head\n",
    "        while True:\n",
    "            node = self.popMaxElement(lists)\n",
    "            if node == None:\n",
    "                break\n",
    "\n",
    "            ptr.next = node\n",
    "            ptr = ptr.next\n",
    "\n",
    "        return head\n"
   ]
  },
  {
   "cell_type": "code",
   "execution_count": 77,
   "metadata": {},
   "outputs": [
    {
     "data": {
      "text/plain": [
       "[1, 1, 2, 3, 4, 4, 5, 6]"
      ]
     },
     "execution_count": 77,
     "metadata": {},
     "output_type": "execute_result"
    }
   ],
   "source": [
    "lists = []\n",
    "for array in [[1,4,5],[1,3,4],[2,6]]:\n",
    "    head = None\n",
    "    tmp = None\n",
    "    for e in array:\n",
    "        if head == None: \n",
    "            head = ListNode(e)\n",
    "            tmp = head\n",
    "        else:\n",
    "            tmp.next = ListNode(e)\n",
    "            tmp = tmp.next\n",
    "    \n",
    "    lists.append(head)\n",
    "\n",
    "testInput = lists\n",
    "\n",
    "Solution().printResult(Solution().mergeKLists(testInput))"
   ]
  },
  {
   "cell_type": "code",
   "execution_count": 84,
   "metadata": {},
   "outputs": [
    {
     "name": "stdout",
     "output_type": "stream",
     "text": [
      "\n"
     ]
    }
   ],
   "source": [
    "def rob(nums: List[int]) -> int:\n",
    "    memo = []\n",
    "    def rec(i) -> int:\n",
    "        print(i)\n",
    "        if i < 0:\n",
    "            return 0\n",
    "        \n",
    "        robDay = rec(i-2) + nums[i]\n",
    "        dontRob = rec(i-1)\n",
    "        return max(robDay, dontRob)\n",
    "\n",
    "    \n",
    "    return rec(len(nums) - 1)\n",
    "# arr = [183,219,57,193,94,233,202,154,65,240,97,234,100,249,186,66,90,238,168,128,177,235,50,81,185,165,217,207,88,80,112,78,135,62,228,247,211]\n",
    "# rob(arr)\n",
    "print()"
   ]
  },
  {
   "cell_type": "code",
   "execution_count": 93,
   "metadata": {},
   "outputs": [],
   "source": [
    "str1 = 'hola'"
   ]
  },
  {
   "cell_type": "code",
   "execution_count": 98,
   "metadata": {},
   "outputs": [],
   "source": [
    "def reverse_string(word: str):\n",
    "    if len(word) <= 1:\n",
    "        return\n",
    "    \n",
    "    wordList = list(word)\n",
    "    left_ptr = 0\n",
    "    right_ptr = len(word) - 1\n",
    "\n",
    "    while left_ptr < right_ptr:\n",
    "        aux = word[left_ptr]\n",
    "        wordList[left_ptr] = wordList[right_ptr]\n",
    "        wordList[right_ptr] = aux\n",
    "\n",
    "        right_ptr -= 1\n",
    "        left_ptr += 1\n",
    "    \n",
    "    return \"\".join(wordList)\n"
   ]
  },
  {
   "cell_type": "code",
   "execution_count": 103,
   "metadata": {},
   "outputs": [
    {
     "data": {
      "text/plain": [
       "'acol'"
      ]
     },
     "execution_count": 103,
     "metadata": {},
     "output_type": "execute_result"
    }
   ],
   "source": [
    "reverse_string('loca')"
   ]
  },
  {
   "cell_type": "code",
   "execution_count": 114,
   "metadata": {},
   "outputs": [
    {
     "data": {
      "text/plain": [
       "4"
      ]
     },
     "execution_count": 114,
     "metadata": {},
     "output_type": "execute_result"
    }
   ],
   "source": [
    "10 % 6"
   ]
  },
  {
   "cell_type": "code",
   "execution_count": 127,
   "metadata": {},
   "outputs": [],
   "source": [
    "def carPooling(trips: List[List[int]], capacity: int) -> bool:\n",
    "    locations = []\n",
    "    for numPassenger, start, end in trips:\n",
    "        locations.append((start, numPassenger))\n",
    "        locations.append((end, -numPassenger))\n",
    "    \n",
    "    locations.sort(key=lambda x: (x[0], x[1]))\n",
    "\n",
    "    for l in locations:\n",
    "        print(l, capacity)\n",
    "        capacity -= l[1]\n",
    "        if capacity < 0:\n",
    "            return False\n",
    "    \n",
    "    return True"
   ]
  },
  {
   "cell_type": "code",
   "execution_count": 128,
   "metadata": {},
   "outputs": [
    {
     "name": "stdout",
     "output_type": "stream",
     "text": [
      "(3, 2) 13\n",
      "(3, 4) 11\n",
      "(4, 6) 7\n",
      "(5, -4) 1\n",
      "(5, -2) 5\n",
      "(5, 4) 7\n",
      "(6, -4) 3\n",
      "(7, -6) 7\n"
     ]
    },
    {
     "data": {
      "text/plain": [
       "True"
      ]
     },
     "execution_count": 128,
     "metadata": {},
     "output_type": "execute_result"
    }
   ],
   "source": [
    "carPooling([[4,5,6],[6,4,7],[4,3,5],[2,3,5]], 13)"
   ]
  },
  {
   "cell_type": "code",
   "execution_count": 159,
   "metadata": {},
   "outputs": [],
   "source": [
    "def findCheapestPrice(n: int, flights: List[List[int]], src: int, dst: int, k: int) -> int:\n",
    "    # create graph relationship\n",
    "    vertex = {}\n",
    "    for start, end, price in flights:\n",
    "        if start not in vertex:\n",
    "            vertex[start] = []\n",
    "        if end not in vertex:\n",
    "            vertex[end] = []\n",
    "        \n",
    "        vertex[start].append((end, price))\n",
    "\n",
    "    seen = set()\n",
    "    \n",
    "    def dfs(source, target, k, acum, route):\n",
    "        if k <= 0:\n",
    "            return None\n",
    "\n",
    "        for node, weight in vertex[source]:\n",
    "            if node not in seen:\n",
    "                if node == target:\n",
    "                    print([*route, node])\n",
    "                    return acum + weight\n",
    "                \n",
    "                seen.add(node)\n",
    "                possibleResult = dfs(node, target, k - 1, acum + weight, [*route, node])\n",
    "                if possibleResult != None:\n",
    "                    return possibleResult\n",
    "                seen.remove(node)\n",
    "    \n",
    "    seen.add(src)\n",
    "    result = dfs(src, dst, k, 0, [src])\n",
    "    return result\n",
    "\n"
   ]
  },
  {
   "cell_type": "code",
   "execution_count": 160,
   "metadata": {},
   "outputs": [
    {
     "name": "stdout",
     "output_type": "stream",
     "text": [
      "[0, 1, 3]\n"
     ]
    },
    {
     "data": {
      "text/plain": [
       "700"
      ]
     },
     "execution_count": 160,
     "metadata": {},
     "output_type": "execute_result"
    }
   ],
   "source": [
    "flights = [[0,1,100],[1,2,100],[2,0,100],[1,3,600],[2,3,200]]\n",
    "findCheapestPrice(4, flights, 0, 3, 2)"
   ]
  },
  {
   "cell_type": "code",
   "execution_count": 172,
   "metadata": {},
   "outputs": [],
   "source": [
    "def findCheapestPrice(n: int, flights: List[List[int]], src: int, dst: int, k: int) -> int:\n",
    "    vertex = {}\n",
    "    for start, end, price in flights:\n",
    "        if start not in vertex:\n",
    "            vertex[start] = []\n",
    "        if end not in vertex:\n",
    "            vertex[end] = []\n",
    "        \n",
    "        vertex[start].append((end, price))\n",
    "    \n",
    "    def dfs(source, target, k, acum, route):\n",
    "        if k < 0:\n",
    "            return None\n",
    "\n",
    "        for node, weight in sorted(vertex[source], key=lambda x: x[1]):\n",
    "            if node not in seen:\n",
    "                if node == target:\n",
    "                    print([*route, node])\n",
    "                    return acum + weight\n",
    "\n",
    "                seen.add(node)\n",
    "                possibleResult = dfs(node, target, k - 1, acum + weight, [*route, node])\n",
    "                if possibleResult != None:\n",
    "                    return possibleResult\n",
    "                seen.remove(node)\n",
    "\n",
    "    seen = set()\n",
    "    seen.add(src)\n",
    "    result = dfs(src, dst, k, 0, [src])\n",
    "    return -1 if result == None else result"
   ]
  },
  {
   "cell_type": "code",
   "execution_count": 173,
   "metadata": {},
   "outputs": [
    {
     "name": "stdout",
     "output_type": "stream",
     "text": [
      "[0, 1, 2, 3]\n"
     ]
    },
    {
     "data": {
      "text/plain": [
       "400"
      ]
     },
     "execution_count": 173,
     "metadata": {},
     "output_type": "execute_result"
    }
   ],
   "source": [
    "flights = [[0,1,100],[1,2,100],[2,0,100],[1,3,600],[2,3,200]]\n",
    "findCheapestPrice(4, flights, 0, 3, 2)"
   ]
  },
  {
   "cell_type": "code",
   "execution_count": 174,
   "metadata": {},
   "outputs": [
    {
     "name": "stdout",
     "output_type": "stream",
     "text": [
      "[0, 1, 2]\n"
     ]
    },
    {
     "data": {
      "text/plain": [
       "200"
      ]
     },
     "execution_count": 174,
     "metadata": {},
     "output_type": "execute_result"
    }
   ],
   "source": [
    "flights = [[0,1,100],[1,2,100],[0,2,500]]\n",
    "findCheapestPrice(3, flights, 0, 2, 1)"
   ]
  },
  {
   "cell_type": "code",
   "execution_count": 175,
   "metadata": {},
   "outputs": [
    {
     "name": "stdout",
     "output_type": "stream",
     "text": [
      "[6, 8, 7, 4, 1, 0]\n"
     ]
    },
    {
     "data": {
      "text/plain": [
       "22"
      ]
     },
     "execution_count": 175,
     "metadata": {},
     "output_type": "execute_result"
    }
   ],
   "source": [
    "flights = [[3,4,4],[2,5,6],[4,7,10],[9,6,5],[7,4,4],[6,2,10],[6,8,6],[7,9,4],[1,5,4],[1,0,4],[9,7,3],[7,0,5],[6,5,8],[1,7,6],[4,0,9],[5,9,1],[8,7,3],[1,2,6],[4,1,5],[5,2,4],[1,9,1],[7,8,10],[0,4,2],[7,2,8]]\n",
    "findCheapestPrice(10, flights, 6, 0, 7)"
   ]
  },
  {
   "cell_type": "code",
   "execution_count": 1,
   "metadata": {},
   "outputs": [
    {
     "data": {
      "text/plain": [
       "16"
      ]
     },
     "execution_count": 1,
     "metadata": {},
     "output_type": "execute_result"
    }
   ],
   "source": []
  },
  {
   "cell_type": "code",
   "execution_count": null,
   "metadata": {},
   "outputs": [],
   "source": []
  }
 ],
 "metadata": {
  "kernelspec": {
   "display_name": "Python 3",
   "language": "python",
   "name": "python3"
  },
  "language_info": {
   "codemirror_mode": {
    "name": "ipython",
    "version": 3
   },
   "file_extension": ".py",
   "mimetype": "text/x-python",
   "name": "python",
   "nbconvert_exporter": "python",
   "pygments_lexer": "ipython3",
   "version": "3.9.13"
  }
 },
 "nbformat": 4,
 "nbformat_minor": 2
}
