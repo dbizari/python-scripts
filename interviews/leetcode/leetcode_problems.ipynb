{
 "cells": [
  {
   "cell_type": "code",
   "execution_count": 16,
   "metadata": {},
   "outputs": [],
   "source": [
    "from typing import List\n",
    "\n",
    "\n",
    "def maxSubArray(nums: List[int]) -> int:\n",
    "    # max i(th) solution is either nums[i] or prev sub array + nums[i]\n",
    "    if len(nums) == 1:\n",
    "        return nums[0]\n",
    "    \n",
    "    currSol = nums[0]\n",
    "    globalSol = nums[0]\n",
    "\n",
    "    for idx in range(1,len(nums)):\n",
    "        currSol = max(nums[idx], currSol + nums[idx])\n",
    "        print('index', 'currSol', 'globalSol')\n",
    "        print(idx, '   ', currSol, '     ', globalSol)\n",
    "        if currSol > globalSol:\n",
    "            globalSol = currSol\n",
    "        \n",
    "    return globalSol\n",
    "        "
   ]
  },
  {
   "cell_type": "code",
   "execution_count": 17,
   "metadata": {},
   "outputs": [
    {
     "name": "stdout",
     "output_type": "stream",
     "text": [
      "index currSol globalSol\n",
      "1     1       -2\n",
      "index currSol globalSol\n",
      "2     -2       1\n",
      "index currSol globalSol\n",
      "3     4       1\n",
      "index currSol globalSol\n",
      "4     3       4\n",
      "index currSol globalSol\n",
      "5     5       4\n",
      "index currSol globalSol\n",
      "6     6       5\n",
      "index currSol globalSol\n",
      "7     1       6\n",
      "index currSol globalSol\n",
      "8     5       6\n"
     ]
    },
    {
     "data": {
      "text/plain": [
       "6"
      ]
     },
     "execution_count": 17,
     "metadata": {},
     "output_type": "execute_result"
    }
   ],
   "source": [
    "# maxSubArray([5,4,-1,7,8])\n",
    "maxSubArray([-2,1,-3,4,-1,2,1,-5,4])\n"
   ]
  },
  {
   "cell_type": "code",
   "execution_count": 57,
   "metadata": {},
   "outputs": [],
   "source": [
    "# Each team should be exactly teamSize\n",
    "def canJoin(array: List, m: int, maxDiff: int) -> bool:\n",
    "    if len(array) == 0:\n",
    "        return True\n",
    "    \n",
    "    return m - min(array) <= maxDiff\n",
    "\n",
    "def matchTeam(skills, teamSize, maxDiff) -> int:\n",
    "    if len(skills) < teamSize:\n",
    "        return 0\n",
    "    \n",
    "    teams = [[]]\n",
    "    skills.sort()\n",
    "    for m in skills:\n",
    "        if len(teams[-1]) < teamSize and canJoin(teams[-1], m, maxDiff):\n",
    "            teams[-1].append(m)\n",
    "        if len(teams[-1]) == teamSize:\n",
    "                teams.append([])\n",
    "\n",
    "    return len(teams) - 1\n",
    "\n",
    "\n",
    "hey solve the following leetcode problem for a coding interview: Determine the maximum number of groups that can be made from the array considering that each group must have the exact size groupSize and the difference between the bigger and lower element of the group can't be bigger than maxDiff. \n",
    "    example: \n",
    "\n",
    "skills = [3, 4, 3, 1, 6, 5]\n",
    "teamSize = 3\n",
    "maxDiff = 2\n"
   ]
  },
  {
   "cell_type": "code",
   "execution_count": 58,
   "metadata": {},
   "outputs": [
    {
     "name": "stdout",
     "output_type": "stream",
     "text": [
      "1 [[1]]\n",
      "3 [[1, 3]]\n",
      "3 [[1, 3, 3], []]\n",
      "4 [[1, 3, 3], [4]]\n",
      "5 [[1, 3, 3], [4, 5]]\n",
      "6 [[1, 3, 3], [4, 5, 6], []]\n",
      "[[1, 3, 3], [4, 5, 6], []]\n"
     ]
    },
    {
     "data": {
      "text/plain": [
       "2"
      ]
     },
     "execution_count": 58,
     "metadata": {},
     "output_type": "execute_result"
    }
   ],
   "source": [
    "skills = [3, 4, 3, 1, 6, 5]\n",
    "teamSize = 3\n",
    "maxDiff = 2\n",
    "\n",
    "matchTeam(skills, teamSize, maxDiff)"
   ]
  },
  {
   "cell_type": "code",
   "execution_count": 48,
   "metadata": {},
   "outputs": [],
   "source": [
    "t = [[]]"
   ]
  },
  {
   "cell_type": "code",
   "execution_count": 61,
   "metadata": {},
   "outputs": [
    {
     "name": "stdout",
     "output_type": "stream",
     "text": [
      "Maximum number of valid groups: 2\n"
     ]
    }
   ],
   "source": [
    "def max_teams(skills, team_size, max_diff):\n",
    "    # Step 1: Sort the skills array\n",
    "    skills.sort()\n",
    "    \n",
    "    # Step 2: Find valid groups\n",
    "    valid_groups = 0\n",
    "    i = 0\n",
    "    \n",
    "    while i <= len(skills) - team_size:\n",
    "        # Try to form a group from the current position\n",
    "        group = skills[i:i + team_size]\n",
    "        \n",
    "        # Check if the group meets the maxDiff condition\n",
    "        if group[-1] - group[0] <= max_diff:\n",
    "            # If it does, count the group and move the pointer\n",
    "            valid_groups += 1\n",
    "            i += team_size  # Move by team size to find next group\n",
    "        else:\n",
    "            # If it doesn't, move the pointer one step and try again\n",
    "            i += 1\n",
    "    \n",
    "    return valid_groups\n",
    "\n",
    "# Example usage\n",
    "skills = [3, 4, 3, 1, 6, 5]\n",
    "team_size = 3\n",
    "max_diff = 2\n",
    "\n",
    "result = max_teams(skills, team_size, max_diff)\n",
    "print(\"Maximum number of valid groups:\", result)"
   ]
  },
  {
   "cell_type": "code",
   "execution_count": null,
   "metadata": {},
   "outputs": [],
   "source": []
  },
  {
   "cell_type": "code",
   "execution_count": 1,
   "metadata": {},
   "outputs": [
    {
     "data": {
      "text/plain": [
       "123"
      ]
     },
     "execution_count": 1,
     "metadata": {},
     "output_type": "execute_result"
    }
   ],
   "source": [
    "1234 // 10"
   ]
  },
  {
   "cell_type": "code",
   "execution_count": 2,
   "metadata": {},
   "outputs": [
    {
     "data": {
      "text/plain": [
       "4"
      ]
     },
     "execution_count": 2,
     "metadata": {},
     "output_type": "execute_result"
    }
   ],
   "source": [
    "1234 % 10"
   ]
  },
  {
   "cell_type": "code",
   "execution_count": 3,
   "metadata": {},
   "outputs": [
    {
     "data": {
      "text/plain": [
       "3"
      ]
     },
     "execution_count": 3,
     "metadata": {},
     "output_type": "execute_result"
    }
   ],
   "source": [
    "123 % 10"
   ]
  },
  {
   "cell_type": "code",
   "execution_count": 4,
   "metadata": {},
   "outputs": [
    {
     "data": {
      "text/plain": [
       "12"
      ]
     },
     "execution_count": 4,
     "metadata": {},
     "output_type": "execute_result"
    }
   ],
   "source": [
    "123 // 10"
   ]
  },
  {
   "cell_type": "code",
   "execution_count": 5,
   "metadata": {},
   "outputs": [
    {
     "data": {
      "text/plain": [
       "2"
      ]
     },
     "execution_count": 5,
     "metadata": {},
     "output_type": "execute_result"
    }
   ],
   "source": [
    "12 % 10"
   ]
  },
  {
   "cell_type": "code",
   "execution_count": 6,
   "metadata": {},
   "outputs": [
    {
     "data": {
      "text/plain": [
       "1"
      ]
     },
     "execution_count": 6,
     "metadata": {},
     "output_type": "execute_result"
    }
   ],
   "source": [
    "12 // 10"
   ]
  },
  {
   "cell_type": "code",
   "execution_count": 7,
   "metadata": {},
   "outputs": [
    {
     "data": {
      "text/plain": [
       "0"
      ]
     },
     "execution_count": 7,
     "metadata": {},
     "output_type": "execute_result"
    }
   ],
   "source": [
    "1 // 10"
   ]
  },
  {
   "cell_type": "code",
   "execution_count": 7,
   "metadata": {},
   "outputs": [],
   "source": [
    "import heapq\n",
    "\n",
    "def k_smallest_elements_group(arr, m, k):\n",
    "    result = []\n",
    "    n = len(arr)\n",
    "    \n",
    "    # Divide the input array into groups of size m\n",
    "    for i in range(0, n, m):\n",
    "        group = arr[i:i+m]\n",
    "        print(group)\n",
    "        \n",
    "        # Find the k smallest elements in the group\n",
    "        k_smallest = heapq.nsmallest(k, group)\n",
    "        result.append(k_smallest)\n",
    "    \n",
    "    return result\n",
    "zœ"
   ]
  },
  {
   "cell_type": "code",
   "execution_count": 1,
   "metadata": {},
   "outputs": [
    {
     "ename": "NameError",
     "evalue": "name 'k_smallest_elements_group' is not defined",
     "output_type": "error",
     "traceback": [
      "\u001b[0;31m---------------------------------------------------------------------------\u001b[0m",
      "\u001b[0;31mNameError\u001b[0m                                 Traceback (most recent call last)",
      "Cell \u001b[0;32mIn[1], line 1\u001b[0m\n\u001b[0;32m----> 1\u001b[0m \u001b[43mk_smallest_elements_group\u001b[49m([\u001b[38;5;241m1\u001b[39m, \u001b[38;5;241m3\u001b[39m, \u001b[38;5;241m4\u001b[39m, \u001b[38;5;241m5\u001b[39m], m\u001b[38;5;241m=\u001b[39m\u001b[38;5;241m3\u001b[39m, k\u001b[38;5;241m=\u001b[39m \u001b[38;5;241m2\u001b[39m)\n",
      "\u001b[0;31mNameError\u001b[0m: name 'k_smallest_elements_group' is not defined"
     ]
    }
   ],
   "source": [
    "k_smallest_elements_group([1, 3, 4, 5], m=3, k= 2)"
   ]
  },
  {
   "cell_type": "code",
   "execution_count": 11,
   "metadata": {},
   "outputs": [
    {
     "name": "stdout",
     "output_type": "stream",
     "text": [
      "1 ['A', 'B', 'D', 'C', 'C', 'A']\n",
      "2 ['B', 'A', 'C']\n",
      "3 ['B', 'D', 'C', 'B', 'C']\n",
      "\n",
      "{'ABD': 1, 'BDC': 2, 'DCC': 1, 'CCA': 1, 'BAC': 1, 'DCB': 1, 'CBC': 1}\n",
      "\n",
      "BDC\n"
     ]
    }
   ],
   "source": [
    "log = [\n",
    "    { 'user': '1', 'page': 'A'},\n",
    "    { 'user': '2', 'page': 'B'},\n",
    "    { 'user': '1', 'page': 'B'},\n",
    "    { 'user': '1', 'page': 'D'},\n",
    "    { 'user': '2', 'page': 'A'},\n",
    "    { 'user': '3', 'page': 'B'},\n",
    "    { 'user': '3', 'page': 'D'},\n",
    "    { 'user': '1', 'page': 'C'},\n",
    "    { 'user': '3', 'page': 'C'},\n",
    "    { 'user': '1', 'page': 'C'},\n",
    "    { 'user': '2', 'page': 'C'},\n",
    "    { 'user': '3', 'page': 'B'},\n",
    "    { 'user': '1', 'page': 'A'},\n",
    "    { 'user': '3', 'page': 'C'}]\n",
    "\n",
    "def getMostVisitedSeq(log):\n",
    "    seqByUser = {}\n",
    "    # aggregate log data into userID -> sequence\n",
    "    for entry in log:\n",
    "        userID = entry['user']\n",
    "        pageID = entry['page']\n",
    "\n",
    "        if userID not in seqByUser:\n",
    "            seqByUser[userID] = [pageID]\n",
    "        else:\n",
    "            seqByUser[userID].append(pageID)\n",
    "    \n",
    "    # re-map to 3 length sequence and frequency\n",
    "    freqBySeq = {}\n",
    "    for k, seq in seqByUser.items():\n",
    "        print(k, seq)\n",
    "        for i in range(len(seq) - 2):\n",
    "            sliceOfSeq = seq[i:i+3]\n",
    "            seqKey = \"\".join(sliceOfSeq)\n",
    "\n",
    "            if seqKey not in freqBySeq:\n",
    "                freqBySeq[seqKey] = 1\n",
    "            else:\n",
    "                freqBySeq[seqKey] += 1\n",
    "\n",
    "    print()\n",
    "    print(freqBySeq)\n",
    "    maxVal = 0\n",
    "    maxKey = None\n",
    "    for k, v in freqBySeq.items():\n",
    "        if v > maxVal:\n",
    "            maxVal = v\n",
    "            maxKey = k\n",
    "    \n",
    "    print()\n",
    "    return maxKey\n",
    "\n",
    "O(U * L)\n",
    "print(getMostVisitedSeq(log))"
   ]
  },
  {
   "cell_type": "code",
   "execution_count": 19,
   "metadata": {},
   "outputs": [
    {
     "name": "stdout",
     "output_type": "stream",
     "text": [
      "1\n"
     ]
    }
   ],
   "source": [
    "from typing import *\n",
    "import heapq\n",
    "# Definition for singly-linked list.\n",
    "# class ListNode:\n",
    "#     def __init__(self, val=0, next=None):\n",
    "#         self.val = val\n",
    "#         self.next = next\n",
    "\n",
    "class HeapNode:\n",
    "    def __init__(self, val, listIdx):\n",
    "        self.val = val\n",
    "        self.listIdx = listIdx\n",
    "\n",
    "    def __lt__(self, other):\n",
    "        return self.val < other.val\n",
    "\n",
    "class Solution:\n",
    "    def mergeKLists(self, lists: List[Optional[List[int]]]):\n",
    "        heap = []\n",
    "        for idx, l in enumerate(lists):\n",
    "            node = HeapNode(l[0], idx)\n",
    "            heapq.heappush(heap, node)\n",
    "\n",
    "        print(heapq.heappop(heap).val)\n",
    "\n",
    "        \n",
    "sol = Solution()\n",
    "sol.mergeKLists([[1,4,5],[1,3,4],[2,6]])"
   ]
  },
  {
   "cell_type": "code",
   "execution_count": null,
   "metadata": {},
   "outputs": [],
   "source": []
  }
 ],
 "metadata": {
  "kernelspec": {
   "display_name": "Python 3",
   "language": "python",
   "name": "python3"
  },
  "language_info": {
   "codemirror_mode": {
    "name": "ipython",
    "version": 3
   },
   "file_extension": ".py",
   "mimetype": "text/x-python",
   "name": "python",
   "nbconvert_exporter": "python",
   "pygments_lexer": "ipython3",
   "version": "3.9.13"
  }
 },
 "nbformat": 4,
 "nbformat_minor": 2
}
